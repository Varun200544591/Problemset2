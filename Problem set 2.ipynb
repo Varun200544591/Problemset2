{
 "cells": [
  {
   "cell_type": "markdown",
   "metadata": {},
   "source": [
    "### Question 1\n",
    "\n",
    "\n",
    "Consider the following Python module:\n",
    "a = 0\n",
    "def b():\n",
    "global a\n",
    "a = c(a)\n",
    "def c(a):\n",
    "return a + 2\n",
    "After importing the module into the interpreter, you execute:\n",
    ">>> b()\n",
    ">>> b()\n",
    ">>> b()\n",
    ">>> a\n",
    "?\n",
    "What value is displayed when the last expression (a) is evaluated? Explain your answer by indicating what happens in every executed statement.\n"
   ]
  },
  {
   "cell_type": "code",
   "execution_count": 26,
   "metadata": {},
   "outputs": [],
   "source": [
    "a = 0\n",
    "def b():\n",
    "    global a\n",
    "    a = c(a)\n",
    "def c(a):\n",
    "    return a + 2"
   ]
  },
  {
   "cell_type": "markdown",
   "metadata": {},
   "source": [
    "Here, First we define a variable a with the value 0. Then we defne two functions b() and c(a).The b() function will modify the global variable a and then set 'a' to call the c(a).This c(a) function returns the result of adding 2 as a input."
   ]
  },
  {
   "cell_type": "code",
   "execution_count": 27,
   "metadata": {},
   "outputs": [
    {
     "data": {
      "text/plain": [
       "6"
      ]
     },
     "execution_count": 27,
     "metadata": {},
     "output_type": "execute_result"
    }
   ],
   "source": [
    "b()\n",
    "b()\n",
    "b()\n",
    "a"
   ]
  },
  {
   "cell_type": "markdown",
   "metadata": {},
   "source": [
    "When we execute b() for the first time , c(a) is called with the value of a is 0. then c(a) returns 0+2 which means 2 and this value is assigned to a.\n",
    "\n",
    "when b() is called again , c(a) returns 2+2 which means 4 , again this value assigned to a.\n",
    "\n",
    "when b() execute for the third time , c(a) returns 4+2 which means 6, and this value assigned to a.\n",
    "\n",
    "So the final value is 6.\n"
   ]
  },
  {
   "cell_type": "markdown",
   "metadata": {},
   "source": [
    "### Question 2:\n",
    "\n",
    "Function fileLength(), given to you, takes the name of a file as input and returns the length of the file: >>> fileLength('midterm.py') 284 >>> fileLength('idterm.py') Traceback (most recent call last): File \"<pyshell#34>\", line 1, in <module> fileLength('idterm.py') File \"/Users/me/midterm.py\", line 3, in fileLength infile = open(filename) FileNotFoundError: [Errno 2] No such file or directory: 'idterm.py'\n",
    "As shown above, if the file cannot be found by the interpreter or if it cannot be read as a text file, an exception will be raised. Modify function fileLength() so that a friendly message is printed instead: >>> fileLength('midterm.py') 358 >>> fileLength('idterm.py') File idterm.py not found."
   ]
  },
  {
   "cell_type": "code",
   "execution_count": 17,
   "metadata": {},
   "outputs": [
    {
     "name": "stdout",
     "output_type": "stream",
     "text": [
      "File midterm.py not found.\n",
      "File idterm.py not found.\n"
     ]
    }
   ],
   "source": [
    "def fileLength(filename):\n",
    "    try:\n",
    "        infile = open(filename, 'r')\n",
    "        content = infile.read()\n",
    "        infile.close()\n",
    "        length = len(content)\n",
    "        return length\n",
    "    except FileNotFoundError:\n",
    "        return f\"File {filename} not found.\"\n",
    "\n",
    "# Print if file exists otherswise print exception that file noy found:\n",
    "result = fileLength('midterm.py')\n",
    "print(result)\n",
    "\n",
    "result = fileLength('idterm.py')\n",
    "print(result)"
   ]
  },
  {
   "cell_type": "markdown",
   "metadata": {},
   "source": [
    "### Question 3 "
   ]
  },
  {
   "cell_type": "markdown",
   "metadata": {},
   "source": [
    "Write a class named Marsupial that can be used as shown below: >>> m = Marsupial() >>> m.put_in_pouch('doll') >>> m.put_in_pouch('firetruck') >>> m.put_in_pouch('kitten') >>> m.pouch_contents() ['doll', 'firetruck', 'kitten']\n",
    "\n",
    "Now write a class named Kangaroo as a subclass of Marsupial that inherits all the attributes of Marsupial and also:\n",
    "a. extends the Marsupial __init__ constructor to take, as input, the coordinates x and y of the Kangaroo object,\n",
    "b. supports method jump that takes number values dx and dy as input and moves the kangaroo by dx units along the x-axis and by dy units along the y-axis, and\n",
    "c. overloads the __str__ operator so it behaves as shown below.\n",
    ">>> k = Kangaroo(0,0) >>> print(k) I am a Kangaroo located at coordinates (0,0) >>> k.put_in_pouch('doll') >>> k.put_in_pouch('firetruck') >>> k.put_in_pouch('kitten') >>> k.pouch_contents() ['doll', 'firetruck', 'kitten'] >>> k.jump(1,0) >>> k.jump(1,0) >>> k.jump(1,0) >>> print(k) I am a Kangaroo located at coordinates (3,0)"
   ]
  },
  {
   "cell_type": "code",
   "execution_count": 19,
   "metadata": {},
   "outputs": [],
   "source": [
    "# class Marsupial\n",
    "class Marsupial:\n",
    "    def __init__(self):\n",
    "        self.pouch = []  # Initialize an empty pouch\n",
    "\n",
    "    def put_in_pouch(self, item):\n",
    "        self.pouch.append(item)  # Add an item to the pouch\n",
    "\n",
    "    def pouch_contents(self):\n",
    "        return self.pouch  # Return the contents of the pouch\n",
    "\n",
    "# class called Kangaroo which inherits from Marsupial\n",
    "class Kangaroo(Marsupial):\n",
    "    def __init__(self, x, y):\n",
    "        super().__init__()  # Initialize the Marsupial part of Kangaroo\n",
    "        self.x = x  # Initialize Kangaroo's x-coordinate\n",
    "        self.y = y  # Initialize Kangaroo's y-coordinatecoordinate\n",
    "\n",
    "    def jump(self, dx, dy):\n",
    "        self.x += dx  # Move Kangaroo's x- by dx\n",
    "        self.y += dy  # Move Kangaroo's y-coordinate by dy\n",
    "\n",
    "    def __str__(self):\n",
    "        return f\"I am a Kangaroo located at coordinates ({self.x}, {self.y})\"\n",
    "\n"
   ]
  },
  {
   "cell_type": "code",
   "execution_count": 20,
   "metadata": {},
   "outputs": [
    {
     "name": "stdout",
     "output_type": "stream",
     "text": [
      "Marsupial's pouch contents: ['doll', 'firetruck', 'kitten']\n",
      "I am a Kangaroo located at coordinates (0, 0)\n",
      "Kangaroo's pouch contents: ['doll', 'firetruck', 'kitten']\n",
      "I am a Kangaroo located at coordinates (3, 0)\n"
     ]
    }
   ],
   "source": [
    "\n",
    "# Create a Marsupial, put items in its pouch, and print the contents\n",
    "m = Marsupial()\n",
    "m.put_in_pouch('doll')\n",
    "m.put_in_pouch('firetruck')\n",
    "m.put_in_pouch('kitten')\n",
    "print(f\"Marsupial's pouch contents: {m.pouch_contents()}\")\n",
    "\n",
    "# Create a Kangaroo at coordinates (0, 0), put items in its pouch, jump, and print its location\n",
    "k = Kangaroo(0, 0)\n",
    "print(k)\n",
    "k.put_in_pouch('doll')\n",
    "k.put_in_pouch('firetruck')\n",
    "k.put_in_pouch('kitten')\n",
    "print(f\"Kangaroo's pouch contents: {k.pouch_contents()}\")\n",
    "k.jump(1, 0)\n",
    "k.jump(1, 0)\n",
    "k.jump(1, 0)\n",
    "print(k)"
   ]
  },
  {
   "cell_type": "markdown",
   "metadata": {},
   "source": [
    "\n",
    "\n",
    "### Question 4 \n",
    "Write function collatz() that takes a positive integer x as input and prints the \n",
    "Collatz sequence starting at x. A Collatz sequence is obtained by repeatedly applying \n",
    "this rule to the previous number x in the sequence: \n",
    " \n",
    "x = {  𝑥/2 𝑖𝑓 𝑥 𝑖𝑠 𝑒𝑣𝑒𝑛 3𝑥 \n",
    "+ 1 𝑖𝑓 𝑥 𝑖𝑠 𝑜𝑑𝑑 \n",
    " \n",
    "Your function should stop when the sequence gets to number 1. Your \n",
    "implementation must be recursive, without any loops. \n",
    "\n",
    "```python\n",
    ">>> collatz(1)\n",
    "1\n",
    ">>> collatz(10)\n",
    "10\n",
    "5\n",
    "16\n",
    "8\n",
    "4\n",
    "2\n"
   ]
  },
  {
   "cell_type": "code",
   "execution_count": 25,
   "metadata": {},
   "outputs": [],
   "source": [
    "def collatz(x):\n",
    "    # Print the current value of x\n",
    "    print(x)\n",
    "    # Base case: if x is 1, the sequence ends\n",
    "    if x == 1:\n",
    "        return\n",
    "    # Recursive case: if x is even, divide it by 2; if x is odd, multiply by 3 and add 1\n",
    "    elif x % 2 == 0:\n",
    "        collatz(x // 2)\n",
    "    else:\n",
    "        collatz(3 * x + 1)\n"
   ]
  },
  {
   "cell_type": "code",
   "execution_count": 24,
   "metadata": {},
   "outputs": [
    {
     "name": "stdout",
     "output_type": "stream",
     "text": [
      "1\n"
     ]
    }
   ],
   "source": [
    "collatz(1)"
   ]
  },
  {
   "cell_type": "code",
   "execution_count": 26,
   "metadata": {},
   "outputs": [
    {
     "name": "stdout",
     "output_type": "stream",
     "text": [
      "10\n",
      "5\n",
      "16\n",
      "8\n",
      "4\n",
      "2\n",
      "1\n"
     ]
    }
   ],
   "source": [
    "collatz(10)"
   ]
  },
  {
   "cell_type": "markdown",
   "metadata": {},
   "source": [
    "### Question 5 \n",
    "Write a recursive method binary() that takes a non-negative \n",
    "integer n and prints the binary representation of integer n. \n",
    " \n",
    "```python\n",
    ">>> binary(0)\n",
    "0\n",
    ">>> binary(1)\n",
    "1\n",
    ">>> binary(3)\n",
    "11\n",
    ">>> binary(9)\n",
    "1001"
   ]
  },
  {
   "cell_type": "code",
   "execution_count": 35,
   "metadata": {},
   "outputs": [],
   "source": [
    "def binary(n):\n",
    "    if n==0:\n",
    "        return 0\n",
    "    else:\n",
    "        return ((10*binary(int(n/2))) + (n%2))"
   ]
  },
  {
   "cell_type": "code",
   "execution_count": 37,
   "metadata": {},
   "outputs": [
    {
     "data": {
      "text/plain": [
       "0"
      ]
     },
     "execution_count": 37,
     "metadata": {},
     "output_type": "execute_result"
    }
   ],
   "source": [
    "binary(0)\n"
   ]
  },
  {
   "cell_type": "code",
   "execution_count": 38,
   "metadata": {},
   "outputs": [
    {
     "data": {
      "text/plain": [
       "1"
      ]
     },
     "execution_count": 38,
     "metadata": {},
     "output_type": "execute_result"
    }
   ],
   "source": [
    "binary(1)"
   ]
  },
  {
   "cell_type": "code",
   "execution_count": 39,
   "metadata": {},
   "outputs": [
    {
     "data": {
      "text/plain": [
       "11"
      ]
     },
     "execution_count": 39,
     "metadata": {},
     "output_type": "execute_result"
    }
   ],
   "source": [
    "binary(3)"
   ]
  },
  {
   "cell_type": "code",
   "execution_count": 40,
   "metadata": {},
   "outputs": [
    {
     "data": {
      "text/plain": [
       "1001"
      ]
     },
     "execution_count": 40,
     "metadata": {},
     "output_type": "execute_result"
    }
   ],
   "source": [
    "binary(9)"
   ]
  },
  {
   "cell_type": "markdown",
   "metadata": {},
   "source": [
    "### Question 6"
   ]
  },
  {
   "cell_type": "markdown",
   "metadata": {},
   "source": [
    "Implement a class named HeadingParser that can be used to parse an HTML document, and retrieve and print all the headings in the document. You should implement your class as a subclass of HTMLParser, defined in Standard Library module html.parser. When fed a string containing HTML code, your class should print the headings, one per line and in the order in which they appear in the document. Each heading should be indented as follows: an h1 heading should have indentation 0, and h2 heading should have indentation 1, etc. Test your implementation using w3c.html.\n",
    ">>> infile = open('w3c.html')\n",
    ">>> content = infile.read()\n",
    ">>> infile.close()\n",
    ">>> hp = HeadingParser()\n",
    ">>> hp.feed(content)\n",
    "W3C Mission\n",
    "Principles"
   ]
  },
  {
   "cell_type": "markdown",
   "metadata": {},
   "source": [
    "### Question 7 \n",
    "Implement recursive function webdir() that takes as input: a URL (as a string) and non-negative integers depth and indent. Your function should visit every web page reachable from the starting URL web page in depth clicks or less, and print each web page's URL. As shown below, indentation, specified by indent, should be used to indicate the depth of a URL. >>> webdir('http://reed.cs.depaul.edu/lperkovic/csc242/test1.html', 2, 0) http://reed.cs.depaul.edu/lperkovic/csc242/test1.html http://reed.cs.depaul.edu/lperkovic/csc242/test2.html http://reed.cs.depaul.edu/lperkovic/csc242/test4.html http://reed.cs.depaul.edu/lperkovic/csc242/test3.html http://reed.cs.depaul.edu/lperkovic/csc242/test4.html"
   ]
  },
  {
   "cell_type": "code",
   "execution_count": 42,
   "metadata": {},
   "outputs": [
    {
     "name": "stdout",
     "output_type": "stream",
     "text": [
      "http://reed.cs.depaul.edu/lperkovic/csc242/test1.html\n"
     ]
    }
   ],
   "source": [
    "import requests\n",
    "from bs4 import BeautifulSoup\n",
    "\n",
    "def webdir(url, depth, indent):\n",
    "    if depth < 0:\n",
    "        return\n",
    "    # Print the URL with the specified indentation\n",
    "    print(' ' * indent + url)\n",
    "    try:\n",
    "        # Fetch the content of the URL\n",
    "        response = requests.get(url)\n",
    "        # If the fetch was successful, parse the content\n",
    "        if response.status_code == 200:\n",
    "            html_content = BeautifulSoup(response.text, 'html.parser')\n",
    "            # Find all links in the content\n",
    "            for link in html_content.find_all('a'):\n",
    "                href = link.get('href')\n",
    "                if href and not href.startswith('http'):\n",
    "                    # Construct a full URL if necessary\n",
    "                    href = url + '/' + href\n",
    "                # Recursive call with decremented depth and incremented indent\n",
    "                webdir(href, depth - 1, indent + 1)\n",
    "    except Exception as e:\n",
    "        print(f\"Error fetching or parsing {url}: {e}\")\n",
    "\n",
    "# Example usage\n",
    "webdir('http://reed.cs.depaul.edu/lperkovic/csc242/test1.html', 2, 0)"
   ]
  },
  {
   "cell_type": "markdown",
   "metadata": {},
   "source": [
    "### Question 8\n",
    "\n",
    "Write SQL queries on the below database table that return:\n",
    "a) All the temperature data.\n",
    "b) All the cities, but without repetition.\n",
    "c) All the records for India.\n",
    "d) All the Fall records.\n",
    "e) The city, country, and season for which the average rainfall is between 200 and 400 millimeters.\n",
    "f) The city and country for which the average Fall temperature is above 20 degrees, in increasing temperature order.\n",
    "g) The total annual rainfall for Cairo.\n",
    "h) The total rainfall for each season.\n",
    "City Country Season Temperature (C) Rainfall (mm)\n",
    "Mumbai\n",
    "India\n",
    "Winter\n",
    "24.8\n",
    "5.9\n",
    "Mumbai\n",
    "India\n",
    "Spring\n",
    "28.4\n",
    "16.2\n",
    "Mumbai\n",
    "India\n",
    "Summer\n",
    "27.9\n",
    "1549.4\n",
    "Mumbai\n",
    "India\n",
    "Fall\n",
    "27.6\n",
    "346.0\n",
    "London\n",
    "United Kingdom\n",
    "Winter\n",
    "4.2\n",
    "207.7\n",
    "London\n",
    "United Kingdom\n",
    "Spring\n",
    "8.3\n",
    "169.6\n",
    "London\n",
    "United Kingdom\n",
    "Summer\n",
    "15.7\n",
    "157.0\n",
    "London\n",
    "United Kingdom\n",
    "Fall\n",
    "10.4\n",
    "218.5\n",
    "Cairo\n",
    "Egypt\n",
    "Winter\n",
    "13.6\n",
    "16.5\n",
    "Cairo\n",
    "Egypt\n",
    "Spring\n",
    "20.7\n",
    "6.5\n",
    "Cairo\n",
    "Egypt\n",
    "Summer\n",
    "27.7\n",
    "0.1\n",
    "Cairo\n",
    "Egypt\n",
    "Fall\n",
    "22.2\n",
    "4.5"
   ]
  },
  {
   "cell_type": "code",
   "execution_count": 43,
   "metadata": {},
   "outputs": [
    {
     "data": {
      "text/plain": [
       "<sqlite3.Cursor at 0x1e07df92740>"
      ]
     },
     "execution_count": 43,
     "metadata": {},
     "output_type": "execute_result"
    }
   ],
   "source": [
    "import sqlite3\n",
    "\n",
    "# Create a new SQLite database or connect to an existing one\n",
    "conn = sqlite3.connect('weather_data.db')\n",
    "\n",
    "# Create a cursor object to interact with the database\n",
    "cursor = conn.cursor()\n",
    "\n",
    "# Create a table\n",
    "cursor.execute('''\n",
    "    CREATE TABLE Weather (\n",
    "        City TEXT,\n",
    "        Country TEXT,\n",
    "        Season TEXT,\n",
    "        Temperature REAL,\n",
    "        Rainfall REAL\n",
    "    )\n",
    "''')\n",
    "\n",
    "\n",
    "# Insert data\n",
    "data = [\n",
    "    ('Mumbai', 'India', 'Winter', 24.8, 5.9),\n",
    "    ('Mumbai', 'India', 'Spring', 28.4, 16.2),\n",
    "    ('Mumbai', 'India', 'Summer', 27.9, 1549.4),\n",
    "    ('Mumbai', 'India', 'Fall', 27.6, 346.0),\n",
    "    ('London', 'United Kingdom', 'Winter', 4.2, 207.7),\n",
    "    ('London', 'United Kingdom', 'Spring', 8.3, 169.6),\n",
    "    ('London', 'United Kingdom', 'Summer', 15.7, 157.0),\n",
    "    ('London', 'United Kingdom', 'Fall', 10.4, 218.5),\n",
    "    ('Cairo', 'Egypt', 'Winter', 13.6, 16.5),\n",
    "    ('Cairo', 'Egypt', 'Spring', 20.7, 6.5),\n",
    "    ('Cairo', 'Egypt', 'Summer', 27.7, 0.1),\n",
    "    ('Cairo', 'Egypt', 'Fall', 22.2, 4.5)\n",
    "]\n",
    "\n",
    "cursor.executemany('INSERT INTO Weather VALUES (?,?,?,?,?)', data)"
   ]
  },
  {
   "cell_type": "code",
   "execution_count": 44,
   "metadata": {},
   "outputs": [
    {
     "data": {
      "text/plain": [
       "[('Mumbai', 'India', 'Winter', 24.8, 5.9),\n",
       " ('Mumbai', 'India', 'Spring', 28.4, 16.2),\n",
       " ('Mumbai', 'India', 'Summer', 27.9, 1549.4),\n",
       " ('Mumbai', 'India', 'Fall', 27.6, 346.0),\n",
       " ('London', 'United Kingdom', 'Winter', 4.2, 207.7),\n",
       " ('London', 'United Kingdom', 'Spring', 8.3, 169.6),\n",
       " ('London', 'United Kingdom', 'Summer', 15.7, 157.0),\n",
       " ('London', 'United Kingdom', 'Fall', 10.4, 218.5),\n",
       " ('Cairo', 'Egypt', 'Winter', 13.6, 16.5),\n",
       " ('Cairo', 'Egypt', 'Spring', 20.7, 6.5),\n",
       " ('Cairo', 'Egypt', 'Summer', 27.7, 0.1),\n",
       " ('Cairo', 'Egypt', 'Fall', 22.2, 4.5)]"
      ]
     },
     "execution_count": 44,
     "metadata": {},
     "output_type": "execute_result"
    }
   ],
   "source": [
    "data"
   ]
  },
  {
   "cell_type": "code",
   "execution_count": 45,
   "metadata": {},
   "outputs": [
    {
     "name": "stdout",
     "output_type": "stream",
     "text": [
      "Temperature Data:\n",
      "24.8\n",
      "28.4\n",
      "27.9\n",
      "27.6\n",
      "4.2\n",
      "8.3\n",
      "15.7\n",
      "10.4\n",
      "13.6\n",
      "20.7\n",
      "27.7\n",
      "22.2\n"
     ]
    }
   ],
   "source": [
    "# Q1: All the temperature data\n",
    "cursor.execute('SELECT Temperature FROM Weather')\n",
    "temperature_data = cursor.fetchall()\n",
    "print(\"Temperature Data:\")\n",
    "for row in temperature_data:\n",
    "    print(row[0])"
   ]
  },
  {
   "cell_type": "code",
   "execution_count": 46,
   "metadata": {},
   "outputs": [
    {
     "name": "stdout",
     "output_type": "stream",
     "text": [
      "Cities without repetition:\n",
      "Mumbai\n",
      "London\n",
      "Cairo\n"
     ]
    }
   ],
   "source": [
    "# Q2: All the cities, but without repetition\n",
    "cursor.execute('SELECT DISTINCT City FROM Weather')\n",
    "cities = cursor.fetchall()\n",
    "print(\"Cities without repetition:\")\n",
    "for row in cities:\n",
    "    print(row[0])"
   ]
  },
  {
   "cell_type": "code",
   "execution_count": 47,
   "metadata": {},
   "outputs": [
    {
     "name": "stdout",
     "output_type": "stream",
     "text": [
      "Records for India:\n",
      "('Mumbai', 'India', 'Winter', 24.8, 5.9)\n",
      "('Mumbai', 'India', 'Spring', 28.4, 16.2)\n",
      "('Mumbai', 'India', 'Summer', 27.9, 1549.4)\n",
      "('Mumbai', 'India', 'Fall', 27.6, 346.0)\n"
     ]
    }
   ],
   "source": [
    "# Q3: All the records for India\n",
    "cursor.execute('SELECT * FROM Weather WHERE Country = \"India\"')\n",
    "india_records = cursor.fetchall()\n",
    "print(\"Records for India:\")\n",
    "for row in india_records:\n",
    "    print(row)"
   ]
  },
  {
   "cell_type": "code",
   "execution_count": 48,
   "metadata": {},
   "outputs": [
    {
     "name": "stdout",
     "output_type": "stream",
     "text": [
      "Fall Records:\n",
      "('Mumbai', 'India', 'Fall', 27.6, 346.0)\n",
      "('London', 'United Kingdom', 'Fall', 10.4, 218.5)\n",
      "('Cairo', 'Egypt', 'Fall', 22.2, 4.5)\n"
     ]
    }
   ],
   "source": [
    "# Q4: All the Fall records\n",
    "cursor.execute('SELECT * FROM Weather WHERE Season = \"Fall\"')\n",
    "fall_records = cursor.fetchall()\n",
    "print(\"Fall Records:\")\n",
    "for row in fall_records:\n",
    "    print(row)"
   ]
  },
  {
   "cell_type": "code",
   "execution_count": 49,
   "metadata": {},
   "outputs": [
    {
     "name": "stdout",
     "output_type": "stream",
     "text": [
      "Cities with average rainfall between 200 and 400 millimeters:\n",
      "('London', 'United Kingdom', 'Fall')\n",
      "('London', 'United Kingdom', 'Winter')\n",
      "('Mumbai', 'India', 'Fall')\n"
     ]
    }
   ],
   "source": [
    "# Q5: The city, country, and season for which the average rainfall is between 200 and 400 millimeters.\n",
    "cursor.execute('SELECT City, Country, Season FROM Weather GROUP BY City, Country, Season HAVING AVG(Rainfall) BETWEEN 200 AND 400')\n",
    "rainfall_data = cursor.fetchall()\n",
    "print(\"Cities with average rainfall between 200 and 400 millimeters:\")\n",
    "for row in rainfall_data:\n",
    "    print(row)"
   ]
  },
  {
   "cell_type": "code",
   "execution_count": 50,
   "metadata": {},
   "outputs": [
    {
     "name": "stdout",
     "output_type": "stream",
     "text": [
      "Cities and countries with average Fall temperature above 20 degrees (in increasing order):\n",
      "('Cairo', 'Egypt')\n",
      "('Mumbai', 'India')\n"
     ]
    }
   ],
   "source": [
    "# Q6: The city and country for which the average Fall temperature is above 20 degrees, in increasing temperature order.\n",
    "cursor.execute('''\n",
    "    SELECT City, Country\n",
    "    FROM Weather\n",
    "    WHERE Season = 'Fall'\n",
    "    GROUP BY City, Country\n",
    "    HAVING AVG(Temperature) > 20\n",
    "    ORDER BY AVG(Temperature) ASC\n",
    "''')\n",
    "fall_temperature_data = cursor.fetchall()\n",
    "print(\"Cities and countries with average Fall temperature above 20 degrees (in increasing order):\")\n",
    "for row in fall_temperature_data:\n",
    "    print(row)"
   ]
  },
  {
   "cell_type": "code",
   "execution_count": 51,
   "metadata": {},
   "outputs": [
    {
     "name": "stdout",
     "output_type": "stream",
     "text": [
      "Total annual rainfall for Cairo: 27.6\n"
     ]
    }
   ],
   "source": [
    "# Q7: The total annual rainfall for Cairo.\n",
    "cursor.execute('SELECT SUM(Rainfall) AS Total_Rainfall FROM Weather WHERE City = \"Cairo\"')\n",
    "cairo_annual_rainfall = cursor.fetchone()\n",
    "print(\"Total annual rainfall for Cairo:\", cairo_annual_rainfall[0])"
   ]
  },
  {
   "cell_type": "code",
   "execution_count": 52,
   "metadata": {},
   "outputs": [
    {
     "name": "stdout",
     "output_type": "stream",
     "text": [
      "Total rainfall for each season:\n",
      "Fall: 569.0\n",
      "Spring: 192.29999999999998\n",
      "Summer: 1706.5\n",
      "Winter: 230.1\n"
     ]
    }
   ],
   "source": [
    "# Q8: The total rainfall for each season.\n",
    "cursor.execute('SELECT Season, SUM(Rainfall) AS Total_Rainfall FROM Weather GROUP BY Season')\n",
    "seasonal_rainfall = cursor.fetchall()\n",
    "print(\"Total rainfall for each season:\")\n",
    "for season in seasonal_rainfall:\n",
    "    print(f\"{season[0]}: {season[1]}\")"
   ]
  },
  {
   "cell_type": "markdown",
   "metadata": {},
   "source": [
    "### Question 9"
   ]
  },
  {
   "cell_type": "markdown",
   "metadata": {},
   "source": [
    ". Suppose list words is defined as follows:\n",
    ">>> words = ['The', 'quick', 'brown', 'fox', 'jumps', 'over', 'the', 'lazy', 'dog']\n",
    "Write list comprehension expressions that use list words and generate the following lists:\n",
    "a) ['THE', 'QUICK', 'BROWN', 'FOX', 'JUMPS', 'OVER', 'THE', 'LAZY', 'DOG']\n",
    "b) ['the', 'quick', 'brown', 'fox', 'jumps', 'over', 'the', 'lazy', 'dog']\n",
    "c) [3, 5, 5, 3, 5, 4, 3, 4, 3] (the list of lengths of words in list words).\n",
    "d) [['THE', 'the', 3], ['QUICK', 'quick', 5], ['BROWN', 'brown', 5], ['FOX', 'fox', 3], ['JUMPS', 'jumps', 5], ['OVER', 'over', 4], ['THE', 'the', 3], ['LAZY', 'lazy', 4], ['DOG', 'dog', 3]] (the list containing a list for every word of list words, where each list contains the word in uppercase and lowercase and the length of the word.)\n",
    "e) ['The', 'quick', 'brown', 'fox', 'jumps', 'over', 'the', 'lazy', 'dog'] (the list of words in list words containing 4 or more characters.)"
   ]
  },
  {
   "cell_type": "code",
   "execution_count": 53,
   "metadata": {},
   "outputs": [],
   "source": [
    "# List of words\n",
    "words = ['The', 'quick', 'brown', 'fox', 'jumps', 'over', 'the', 'lazy', 'dog']"
   ]
  },
  {
   "cell_type": "code",
   "execution_count": 54,
   "metadata": {},
   "outputs": [
    {
     "name": "stdout",
     "output_type": "stream",
     "text": [
      "['THE', 'QUICK', 'BROWN', 'FOX', 'JUMPS', 'OVER', 'THE', 'LAZY', 'DOG']\n"
     ]
    }
   ],
   "source": [
    "# a) Uppercase Words\n",
    "uppercase_words = [word.upper() for word in words]\n",
    "print(uppercase_words)"
   ]
  },
  {
   "cell_type": "code",
   "execution_count": 55,
   "metadata": {},
   "outputs": [
    {
     "name": "stdout",
     "output_type": "stream",
     "text": [
      "['the', 'quick', 'brown', 'fox', 'jumps', 'over', 'the', 'lazy', 'dog']\n"
     ]
    }
   ],
   "source": [
    "# b) Lowercase Words\n",
    "lowercase_words = [word.lower() for word in words]\n",
    "print(lowercase_words)"
   ]
  },
  {
   "cell_type": "code",
   "execution_count": 56,
   "metadata": {},
   "outputs": [
    {
     "name": "stdout",
     "output_type": "stream",
     "text": [
      "[3, 5, 5, 3, 5, 4, 3, 4, 3]\n"
     ]
    }
   ],
   "source": [
    "# c) Words Lengths of each word\n",
    "word_lengths = [len(word) for word in words]\n",
    "print(word_lengths)"
   ]
  },
  {
   "cell_type": "code",
   "execution_count": 57,
   "metadata": {},
   "outputs": [
    {
     "name": "stdout",
     "output_type": "stream",
     "text": [
      "[['THE', 'the', 3], ['QUICK', 'quick', 5], ['BROWN', 'brown', 5], ['FOX', 'fox', 3], ['JUMPS', 'jumps', 5], ['OVER', 'over', 4], ['THE', 'the', 3], ['LAZY', 'lazy', 4], ['DOG', 'dog', 3]]\n"
     ]
    }
   ],
   "source": [
    "# d) Word Information\n",
    "word_information = [[word.upper(), word.lower(), len(word)] for word in words]\n",
    "print(word_information)"
   ]
  },
  {
   "cell_type": "code",
   "execution_count": 59,
   "metadata": {},
   "outputs": [
    {
     "name": "stdout",
     "output_type": "stream",
     "text": [
      "['quick', 'brown', 'jumps', 'over', 'lazy']\n"
     ]
    }
   ],
   "source": [
    "# e) Words that have 4 or More Characters\n",
    "words_4_or_more = [word for word in words if len(word) >= 4]\n",
    "print(words_4_or_more)"
   ]
  }
 ],
 "metadata": {
  "kernelspec": {
   "display_name": "Python 3",
   "language": "python",
   "name": "python3"
  },
  "language_info": {
   "codemirror_mode": {
    "name": "ipython",
    "version": 3
   },
   "file_extension": ".py",
   "mimetype": "text/x-python",
   "name": "python",
   "nbconvert_exporter": "python",
   "pygments_lexer": "ipython3",
   "version": "3.11.1"
  }
 },
 "nbformat": 4,
 "nbformat_minor": 2
}
